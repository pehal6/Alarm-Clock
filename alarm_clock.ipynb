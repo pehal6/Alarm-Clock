{
  "nbformat": 4,
  "nbformat_minor": 0,
  "metadata": {
    "colab": {
      "provenance": []
    },
    "kernelspec": {
      "name": "python3",
      "display_name": "Python 3"
    },
    "language_info": {
      "name": "python"
    }
  },
  "cells": [
    {
      "cell_type": "code",
      "source": [
        "import datetime\n",
        "import time\n",
        "import os\n",
        "import platform\n",
        "\n",
        "def alarm(set_time):\n",
        "    while True:\n",
        "        current_time = datetime.datetime.now().strftime(\"%I:%M %p\")  # 12-hour format with AM/PM\n",
        "        if current_time == set_time:\n",
        "            print(\"⏰ Wake up! Alarm ringing!\")\n",
        "\n",
        "            if platform.system() == \"Windows\":\n",
        "                os.system('start alarm.wav')\n",
        "            else:\n",
        "                os.system('afplay alarm.wav')\n",
        "            break\n",
        "        time.sleep(1)\n",
        "\n",
        "\n",
        "user_time = input(\"Enter alarm time in HH:MM AM/PM format (e.g., 07:30 AM): \")\n",
        "\n",
        "alarm(user_time.strip().upper())\n"
      ],
      "metadata": {
        "collapsed": true,
        "id": "YRGNQtOhorJK"
      },
      "execution_count": null,
      "outputs": []
    }
  ]
}